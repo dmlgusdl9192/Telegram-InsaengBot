{
 "cells": [
  {
   "cell_type": "code",
   "execution_count": 1,
   "metadata": {},
   "outputs": [
    {
     "name": "stdout",
     "output_type": "stream",
     "text": [
      "1557792730:AAEPKLPMKc5FGIlAAzWq6oJKcNLF4uGUFjw\n",
      "-359368332\n",
      "{'id': 1557792730, 'first_name': 'insaengbot', 'is_bot': True, 'username': 'insaengbot', 'can_join_groups': True, 'can_read_all_group_messages': True, 'supports_inline_queries': False}\n"
     ]
    }
   ],
   "source": [
    "# logs\n",
    "import logging\n",
    "logging.basicConfig(level=logging.INFO,\n",
    "                    format='%(asctime)s - %(name)s - %(levelname)s - %(message)s')\n",
    "# import API token\n",
    "# from Telegram_SPAbot_API import tg_SPAbot_API, tg_SPAbot_ChatID\n",
    "token = \"Enter your Bot Token\"\n",
    "chatID = \"Enter your Chat ID\"\n",
    "print(token)\n",
    "print(chatID)\n",
    "# call bot\n",
    "import telegram\n",
    "bot = telegram.Bot(token=token)\n",
    "print(bot.get_me())"
   ]
  },
  {
   "cell_type": "code",
   "execution_count": 2,
   "metadata": {},
   "outputs": [],
   "source": [
    "from telegram.ext import Updater\n",
    "updater = Updater(token=token, use_context=True)\n",
    "dispatcher = updater.dispatcher"
   ]
  },
  {
   "cell_type": "code",
   "execution_count": 3,
   "metadata": {},
   "outputs": [],
   "source": [
    "# define a function that should process a specific type of update\n",
    "def start(update, context):\n",
    "    print(type(context.bot))\n",
    "    context.bot.send_message(chat_id=update.effective_chat.id, text=\"I'm a bot, please talk to me!\")\n",
    "    \n",
    "# The goal is to have this function called every time the Bot receives a Telegram message that \n",
    "# contains the /start command. To accomplish that, you can use a CommandHandler \n",
    "# (one of the provided Handler subclasses) and register it in the dispatcher:\n",
    "from telegram.ext import CommandHandler\n",
    "start_handler = CommandHandler('start', start)\n",
    "dispatcher.add_handler(start_handler)\n"
   ]
  },
  {
   "cell_type": "code",
   "execution_count": 4,
   "metadata": {},
   "outputs": [],
   "source": [
    "import random\n",
    "\n",
    "import re #import regex\n",
    "\n",
    "def versus(msg):\n",
    "    print(\"Function: versus\")\n",
    "    print(\"Message: \",msg)\n",
    "    answer_msg = \"\"\n",
    "    #transform msg\n",
    "    if re.search(\"[ \\t\\n\\r]+vs[ \\t\\n\\r]+\", msg):\n",
    "        temp = re.split(\"[ \\t\\n\\r]+vs[ \\t\\n\\r]+\",msg)\n",
    "        print(temp)\n",
    "        answer_msg = random.choice(temp)\n",
    "    return answer_msg\n",
    "        \n",
    "\n",
    "def isAble(msg):\n",
    "    print(\"Function: isAble\")\n",
    "    print(\"Message: \",msg)\n",
    "    answer_msg = \"\"\n",
    "    if re.search(\"^(ㄱㄴ\\?+)$|([ \\t\\n\\r]ㄱㄴ\\?+)$\", msg):\n",
    "        yes_list = [\"ㅇㅇ\", \"ㄱㄴ!\" , \"ㅇㅋ\"]\n",
    "        no_list  = [\"ㄴㄴ\", \"자제점;;\", \"않이\"]\n",
    "        answer_list = random.choice([yes_list, no_list])\n",
    "        answer_msg = random.choice(answer_list)\n",
    "    return answer_msg"
   ]
  },
  {
   "cell_type": "code",
   "execution_count": 5,
   "metadata": {},
   "outputs": [],
   "source": [
    "def msg_fn_group0(update, context):\n",
    "    user_msg = update.message.text\n",
    "    print(user_msg)\n",
    "    answer_msg_dict = {\"versus\": \"\",\n",
    "                        \"isAble\": \"\"}\n",
    "    answer_msg_dict[\"versus\"] = versus(user_msg)\n",
    "    answer_msg_dict[\"isAble\"] = isAble(answer_msg_dict[\"versus\"]) if answer_msg_dict[\"versus\"] \\\n",
    "                                                                else isAble(user_msg)\n",
    "    print(answer_msg_dict)\n",
    "    order = [\"versus\", \"isAble\"]\n",
    "    \n",
    "    answer_msg = '\\n'.join([answer_msg_dict[x] for x in order if answer_msg_dict[x]])\n",
    "    print(answer_msg)\n",
    "    if answer_msg:\n",
    "        context.bot.send_message(chat_id=update.effective_chat.id, text=answer_msg)\n",
    "\n",
    "from telegram.ext import MessageHandler, Filters\n",
    "msg_handler0 = MessageHandler(Filters.text & (~Filters.command), msg_fn_group0)\n",
    "dispatcher.add_handler(msg_handler0, group = 0)"
   ]
  },
  {
   "cell_type": "code",
   "execution_count": 8,
   "metadata": {},
   "outputs": [
    {
     "name": "stderr",
     "output_type": "stream",
     "text": [
      "2021-03-08 13:27:22,361 - apscheduler.scheduler - INFO - Scheduler started\n"
     ]
    },
    {
     "data": {
      "text/plain": [
       "<queue.Queue at 0x20b8f8b8b88>"
      ]
     },
     "execution_count": 8,
     "metadata": {},
     "output_type": "execute_result"
    }
   ],
   "source": [
    "# Run to start the bot\n",
    "updater.start_polling(timeout=3, clean=True)"
   ]
  },
  {
   "cell_type": "code",
   "execution_count": 7,
   "metadata": {},
   "outputs": [
    {
     "name": "stderr",
     "output_type": "stream",
     "text": [
      "2021-03-08 13:27:17,634 - apscheduler.scheduler - INFO - Scheduler has been shut down\n"
     ]
    }
   ],
   "source": [
    "# stop the bot\n",
    "updater.stop()"
   ]
  },
  {
   "cell_type": "code",
   "execution_count": null,
   "metadata": {},
   "outputs": [],
   "source": [
    "re.search(\"^(ㄱㄴ\\?)$|([ \\t\\n\\r]ㄱㄴ\\?)$\", \"ㄱㄴ?\")"
   ]
  },
  {
   "cell_type": "code",
   "execution_count": null,
   "metadata": {},
   "outputs": [],
   "source": []
  }
 ],
 "metadata": {
  "kernelspec": {
   "display_name": "Python 3",
   "language": "python",
   "name": "python3"
  },
  "language_info": {
   "codemirror_mode": {
    "name": "ipython",
    "version": 3
   },
   "file_extension": ".py",
   "mimetype": "text/x-python",
   "name": "python",
   "nbconvert_exporter": "python",
   "pygments_lexer": "ipython3",
   "version": "3.7.4"
  }
 },
 "nbformat": 4,
 "nbformat_minor": 2
}
