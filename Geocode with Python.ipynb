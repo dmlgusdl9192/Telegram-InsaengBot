{
 "cells": [
  {
   "cell_type": "markdown",
   "metadata": {},
   "source": [
    "https://towardsdatascience.com/geocode-with-python-161ec1e62b89"
   ]
  },
  {
   "cell_type": "code",
   "execution_count": 13,
   "metadata": {},
   "outputs": [],
   "source": [
    "from geopy.geocoders import Nominatim\n",
    "\n",
    "locator = Nominatim(user_agent=\"myGeocoder\")\n"
   ]
  },
  {
   "cell_type": "code",
   "execution_count": 26,
   "metadata": {},
   "outputs": [
    {
     "name": "stdout",
     "output_type": "stream",
     "text": [
      "https://www.google.com/maps?q=43.5460516,-80.2493276\n"
     ]
    }
   ],
   "source": [
    "city = \"guelph on\"\n",
    "location = locator.geocode(city)\n",
    "print(\"https://www.google.com/maps?q={},{}\".format(location.latitude,location.longitude))\n"
   ]
  },
  {
   "cell_type": "code",
   "execution_count": 25,
   "metadata": {},
   "outputs": [
    {
     "name": "stdout",
     "output_type": "stream",
     "text": [
      "https://www.google.com/maps?q=43.7543263,-79.44911696639593\n"
     ]
    }
   ],
   "source": [
    "city = \"north york, on\"\n",
    "location = locator.geocode(city)\n",
    "print(\"https://www.google.com/maps?q={},{}\".format(location.latitude,location.longitude))\n"
   ]
  },
  {
   "cell_type": "code",
   "execution_count": null,
   "metadata": {},
   "outputs": [],
   "source": []
  }
 ],
 "metadata": {
  "kernelspec": {
   "display_name": "Python 3",
   "language": "python",
   "name": "python3"
  },
  "language_info": {
   "codemirror_mode": {
    "name": "ipython",
    "version": 3
   },
   "file_extension": ".py",
   "mimetype": "text/x-python",
   "name": "python",
   "nbconvert_exporter": "python",
   "pygments_lexer": "ipython3",
   "version": "3.8.5"
  }
 },
 "nbformat": 4,
 "nbformat_minor": 4
}
