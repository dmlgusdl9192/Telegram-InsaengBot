{
 "cells": [
  {
   "cell_type": "markdown",
   "metadata": {},
   "source": [
    "# Weatherbit API\n",
    "documentation: https://www.weatherbit.io/api/weather-current"
   ]
  },
  {
   "cell_type": "code",
   "execution_count": 91,
   "metadata": {},
   "outputs": [],
   "source": [
    "#Current weather \n",
    "import requests\n",
    "\n",
    "url = \"https://weatherbit-v1-mashape.p.rapidapi.com/current\"\n",
    "\n",
    "querystring = {\"lon\":\"-79.44911696639593\",\"lat\":\"43.7543263\",\"units\":\"metric\"}\n",
    "\n",
    "headers = {\n",
    "    'x-rapidapi-host': \"weatherbit-v1-mashape.p.rapidapi.com\",\n",
    "    'x-rapidapi-key': \"\"\n",
    "    }\n",
    "\n",
    "response = requests.request(\"GET\", url, headers=headers, params=querystring)"
   ]
  },
  {
   "cell_type": "code",
   "execution_count": 92,
   "metadata": {
    "scrolled": true
   },
   "outputs": [
    {
     "name": "stdout",
     "output_type": "stream",
     "text": [
      "{\"data\":[{\"rh\":90,\"pod\":\"n\",\"lon\":-79.45,\"pres\":989.5,\"timezone\":\"America\\/Toronto\",\"ob_time\":\"2021-10-27 01:36\",\"country_code\":\"CA\",\"clouds\":75,\"ts\":1635298560,\"solar_rad\":0,\"state_code\":\"08\",\"city_name\":\"North York\",\"wind_spd\":1.79,\"wind_cdir_full\":\"north-northeast\",\"wind_cdir\":\"NNE\",\"slp\":1011.1,\"vis\":5,\"h_angle\":-90,\"sunset\":\"22:15\",\"dni\":0,\"dewpt\":5.2,\"snow\":0,\"uv\":0,\"precip\":0,\"wind_dir\":31,\"sunrise\":\"11:47\",\"ghi\":0,\"dhi\":0,\"aqi\":10,\"lat\":43.75,\"weather\":{\"icon\":\"c02n\",\"code\":802,\"description\":\"Scattered clouds\"},\"datetime\":\"2021-10-27:01\",\"temp\":6.7,\"station\":\"F8424\",\"elev_angle\":-40.49,\"app_temp\":5.6}],\"count\":1}\n",
      "\n"
     ]
    }
   ],
   "source": [
    "print(response.text)"
   ]
  },
  {
   "cell_type": "code",
   "execution_count": 25,
   "metadata": {},
   "outputs": [
    {
     "data": {
      "text/plain": [
       "dict"
      ]
     },
     "execution_count": 25,
     "metadata": {},
     "output_type": "execute_result"
    }
   ],
   "source": [
    "import json\n",
    "\n",
    "res = json.loads(response.text)\n",
    "type(res)"
   ]
  },
  {
   "cell_type": "code",
   "execution_count": 32,
   "metadata": {},
   "outputs": [],
   "source": [
    "w_data = res['data'][0]"
   ]
  },
  {
   "cell_type": "code",
   "execution_count": 80,
   "metadata": {},
   "outputs": [],
   "source": [
    "targets = {('weather','description'):\"{}\",\n",
    "           'temp':\"Cur temp: {} C\",\n",
    "           'app_temp':\"Feels like: {} C\",\n",
    "           'wind_spd':\"Wind: {} m/s\",\n",
    "           #'wind_cdir':\"towards {}\",\n",
    "           'precip':\"Precipitation: {} mm/hr\",\n",
    "           'snow':\"Snow: {} mm/hr\",\n",
    "           'rh':\"Humidity: {}%\"}"
   ]
  },
  {
   "cell_type": "code",
   "execution_count": 81,
   "metadata": {},
   "outputs": [
    {
     "name": "stdout",
     "output_type": "stream",
     "text": [
      "Scattered clouds\n",
      "Cur temp: 6.7 C\n",
      "Feels like: 5.1 C\n",
      "Wind: 2.24 m/s\n",
      "Precipitation: 0 mm/hr\n",
      "Snow: 0 mm/hr\n",
      "Humidity: 89%\n"
     ]
    }
   ],
   "source": [
    "for keys in targets:\n",
    "    temp = w_data\n",
    "    if type(keys) is str:\n",
    "        temp = temp[keys]\n",
    "    elif type(keys) is tuple:\n",
    "        for key in keys:\n",
    "            temp = temp[key]\n",
    "    print(targets[keys].format(temp))"
   ]
  },
  {
   "cell_type": "code",
   "execution_count": null,
   "metadata": {},
   "outputs": [],
   "source": []
  }
 ],
 "metadata": {
  "kernelspec": {
   "display_name": "Python 3",
   "language": "python",
   "name": "python3"
  },
  "language_info": {
   "codemirror_mode": {
    "name": "ipython",
    "version": 3
   },
   "file_extension": ".py",
   "mimetype": "text/x-python",
   "name": "python",
   "nbconvert_exporter": "python",
   "pygments_lexer": "ipython3",
   "version": "3.8.5"
  }
 },
 "nbformat": 4,
 "nbformat_minor": 4
}
