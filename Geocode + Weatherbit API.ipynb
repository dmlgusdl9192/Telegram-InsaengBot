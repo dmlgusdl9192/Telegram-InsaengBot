{
 "cells": [
  {
   "cell_type": "markdown",
   "metadata": {},
   "source": [
    "# Geocode with Python\n",
    "https://towardsdatascience.com/geocode-with-python-161ec1e62b89"
   ]
  },
  {
   "cell_type": "markdown",
   "metadata": {},
   "source": [
    "# Weatherbit API\n",
    "documentation: https://www.weatherbit.io/api/weather-current"
   ]
  },
  {
   "cell_type": "code",
   "execution_count": 1,
   "metadata": {},
   "outputs": [],
   "source": [
    "from privateFiles.WeatherAPI import key  as wapi_key, \\\n",
    "                                    host as wapi_host\n",
    "\n",
    "from privateFiles.GeoPy import user_agent"
   ]
  },
  {
   "cell_type": "code",
   "execution_count": 2,
   "metadata": {},
   "outputs": [],
   "source": [
    "from geopy.geocoders import Nominatim\n",
    "import requests\n",
    "import json\n",
    "\n",
    "city = \"Guelph\""
   ]
  },
  {
   "cell_type": "code",
   "execution_count": 3,
   "metadata": {},
   "outputs": [
    {
     "name": "stdout",
     "output_type": "stream",
     "text": [
      "Guelph, Southwestern Ontario, Ontario, Canada\n",
      "Guelph, Southwestern Ontario, Ontario, Canada\n",
      "(43.5460516, -80.2493276)\n",
      "<class 'geopy.location.Location'>\n"
     ]
    }
   ],
   "source": [
    "locator = Nominatim(user_agent=user_agent)\n",
    "location = locator.geocode(city)\n",
    "print(location)\n",
    "print(location.address)\n",
    "print((location.latitude, location.longitude))\n",
    "print(type(location))"
   ]
  },
  {
   "cell_type": "code",
   "execution_count": 4,
   "metadata": {},
   "outputs": [
    {
     "name": "stdout",
     "output_type": "stream",
     "text": [
      "Steinecke, Potsdamer Platz, Tiergarten, Mitte, Berlin, 10785, Deutschland\n"
     ]
    }
   ],
   "source": [
    "geolocator = Nominatim(user_agent=user_agent)\n",
    "location = geolocator.reverse(\"52.509669, 13.376294\")\n",
    "print(location.address)"
   ]
  },
  {
   "cell_type": "code",
   "execution_count": 5,
   "metadata": {},
   "outputs": [],
   "source": [
    "url = \"https://weatherbit-v1-mashape.p.rapidapi.com/current\"\n",
    "\n",
    "querystring = {\"lon\":str(location.longitude),\"lat\":str(location.latitude),\"units\":\"metric\"}\n",
    "\n",
    "headers = {\n",
    "    'x-rapidapi-host': \"weatherbit-v1-mashape.p.rapidapi.com\",\n",
    "    'x-rapidapi-key': wapi_key\n",
    "    }\n",
    "\n",
    "response = requests.request(\"GET\", url, headers=headers, params=querystring)"
   ]
  },
  {
   "cell_type": "code",
   "execution_count": 6,
   "metadata": {},
   "outputs": [
    {
     "name": "stdout",
     "output_type": "stream",
     "text": [
      "{\"data\":[{\"rh\":82.0047,\"pod\":\"n\",\"lon\":13.38,\"pres\":1004.47,\"timezone\":\"Europe\\/Berlin\",\"ob_time\":\"2022-01-02 22:49\",\"country_code\":\"DE\",\"clouds\":100,\"ts\":1641163765,\"solar_rad\":0,\"state_code\":\"16\",\"city_name\":\"Berlin\",\"wind_spd\":3.25895,\"wind_cdir_full\":\"southwest\",\"wind_cdir\":\"SW\",\"slp\":1008.9,\"vis\":5,\"h_angle\":-90,\"sunset\":\"15:05\",\"dni\":0,\"dewpt\":6.2,\"snow\":0,\"uv\":0,\"precip\":0,\"wind_dir\":234,\"sunrise\":\"07:16\",\"ghi\":0,\"dhi\":0,\"aqi\":13,\"lat\":52.51,\"weather\":{\"icon\":\"c04n\",\"code\":804,\"description\":\"Overcast Clouds\"},\"datetime\":\"2022-01-02:23\",\"temp\":9,\"station\":\"C6421\",\"elev_angle\":-60.31,\"app_temp\":9}],\"count\":1}\n",
      "\n"
     ]
    }
   ],
   "source": [
    "print(response.text)"
   ]
  },
  {
   "cell_type": "code",
   "execution_count": 7,
   "metadata": {},
   "outputs": [],
   "source": [
    "response_json = json.loads(response.text)\n",
    "weather_data = response_json['data'][0]"
   ]
  },
  {
   "cell_type": "code",
   "execution_count": 8,
   "metadata": {},
   "outputs": [],
   "source": [
    "target_info = {('weather','description'):\"{}\",\n",
    "                'temp':\"Cur temp: {} C\",\n",
    "                'app_temp':\"Feels like: {} C\",\n",
    "                'wind_spd':\"Wind: {} m/s\",\n",
    "                #'wind_cdir':\"towards {}\",\n",
    "                'precip':\"Precipitation: {} mm/hr\",\n",
    "                'snow':\"Snow: {} mm/hr\",\n",
    "                'rh':\"Humidity: {}%\"}"
   ]
  },
  {
   "cell_type": "code",
   "execution_count": 9,
   "metadata": {},
   "outputs": [
    {
     "name": "stdout",
     "output_type": "stream",
     "text": [
      "Guelph\n",
      "Overcast Clouds\n",
      "Cur temp: 9 C\n",
      "Feels like: 9 C\n",
      "Wind: 3.25895 m/s\n",
      "Precipitation: 0 mm/hr\n",
      "Snow: 0 mm/hr\n",
      "Humidity: 82.0047%\n"
     ]
    }
   ],
   "source": [
    "print(city)\n",
    "ans = \"\"\n",
    "for keys in target_info:\n",
    "    temp = weather_data\n",
    "    if type(keys) is str:\n",
    "        temp = temp[keys]\n",
    "    elif type(keys) is tuple:\n",
    "        for key in keys:\n",
    "            temp = temp[key]\n",
    "    print(target_info[keys].format(temp))\n",
    "    ans += target_info[keys].format(temp) +\"\\n\""
   ]
  },
  {
   "cell_type": "code",
   "execution_count": 10,
   "metadata": {},
   "outputs": [
    {
     "name": "stdout",
     "output_type": "stream",
     "text": [
      "Overcast Clouds\n",
      "Cur temp: 9 C\n",
      "Feels like: 9 C\n",
      "Wind: 3.25895 m/s\n",
      "Precipitation: 0 mm/hr\n",
      "Snow: 0 mm/hr\n",
      "Humidity: 82.0047%\n",
      "\n"
     ]
    }
   ],
   "source": [
    "print(ans)"
   ]
  },
  {
   "cell_type": "code",
   "execution_count": 11,
   "metadata": {},
   "outputs": [
    {
     "data": {
      "text/plain": [
       "{'place_id': 2872479,\n",
       " 'licence': 'Data © OpenStreetMap contributors, ODbL 1.0. https://osm.org/copyright',\n",
       " 'osm_type': 'node',\n",
       " 'osm_id': 368924276,\n",
       " 'boundingbox': ['37.6218054', '37.6219054', '126.7087469', '126.7088469'],\n",
       " 'lat': '37.6218554',\n",
       " 'lon': '126.7087969',\n",
       " 'display_name': '김포중학교, 중구로, 엠제이하우스, 북변동, 김포시, 경기도, 10106, 대한민국',\n",
       " 'class': 'amenity',\n",
       " 'type': 'school',\n",
       " 'importance': 0.11100000000000002,\n",
       " 'icon': 'https://nominatim.openstreetmap.org/ui/mapicons//education_school.p.20.png',\n",
       " 'address': {'amenity': '김포중학교',\n",
       "  'road': '중구로',\n",
       "  'isolated_dwelling': '엠제이하우스',\n",
       "  'village': '북변동',\n",
       "  'city': '김포시',\n",
       "  'province': '경기도',\n",
       "  'postcode': '10106',\n",
       "  'country': '대한민국',\n",
       "  'country_code': 'kr'}}"
      ]
     },
     "execution_count": 11,
     "metadata": {},
     "output_type": "execute_result"
    }
   ],
   "source": [
    "from geopy.geocoders import Nominatim\n",
    "address = '김포중학교'\n",
    "location = geolocator.geocode(address, addressdetails=True)\n",
    "\n",
    "location.raw"
   ]
  },
  {
   "cell_type": "code",
   "execution_count": 12,
   "metadata": {},
   "outputs": [
    {
     "data": {
      "text/plain": [
       "{'place_id': 171021921,\n",
       " 'licence': 'Data © OpenStreetMap contributors, ODbL 1.0. https://osm.org/copyright',\n",
       " 'osm_type': 'way',\n",
       " 'osm_id': 287908722,\n",
       " 'boundingbox': ['43.4993121', '43.5025864', '-80.188684', '-80.1843543'],\n",
       " 'lat': '43.50079905',\n",
       " 'lon': '-80.18674700195928',\n",
       " 'display_name': 'Pergola Commons, Guelph, Southwestern Ontario, Ontario, Canada',\n",
       " 'class': 'landuse',\n",
       " 'type': 'retail',\n",
       " 'importance': 0.5,\n",
       " 'address': {'retail': 'Pergola Commons',\n",
       "  'city': 'Guelph',\n",
       "  'state_district': 'Southwestern Ontario',\n",
       "  'state': 'Ontario',\n",
       "  'country': 'Canada',\n",
       "  'country_code': 'ca'}}"
      ]
     },
     "execution_count": 12,
     "metadata": {},
     "output_type": "execute_result"
    }
   ],
   "source": [
    "from geopy.geocoders import Nominatim\n",
    "address = 'pergola commons guelph'\n",
    "location = geolocator.geocode(address, addressdetails=True)\n",
    "\n",
    "location.raw"
   ]
  },
  {
   "cell_type": "code",
   "execution_count": 13,
   "metadata": {},
   "outputs": [
    {
     "data": {
      "text/plain": [
       "{'place_id': 285972685,\n",
       " 'licence': 'Data © OpenStreetMap contributors, ODbL 1.0. https://osm.org/copyright',\n",
       " 'boundingbox': ['17.0858441', '17.4058441', '80.9471259', '81.2671259'],\n",
       " 'lat': '17.2458441',\n",
       " 'lon': '81.1071259',\n",
       " 'display_name': 'Aswaraopeta mandal, Bhadradri Kothagudem, Telangana, ASDF, India',\n",
       " 'class': 'place',\n",
       " 'type': 'postcode',\n",
       " 'importance': 0.32499999999999996,\n",
       " 'address': {'county': 'Aswaraopeta mandal',\n",
       "  'state_district': 'Bhadradri Kothagudem',\n",
       "  'state': 'Telangana',\n",
       "  'postcode': 'ASDF',\n",
       "  'country': 'India',\n",
       "  'country_code': 'in'}}"
      ]
     },
     "execution_count": 13,
     "metadata": {},
     "output_type": "execute_result"
    }
   ],
   "source": [
    "from geopy.geocoders import Nominatim\n",
    "address = 'asdf'\n",
    "location = geolocator.geocode(address, addressdetails=True)\n",
    "\n",
    "location.raw"
   ]
  },
  {
   "cell_type": "code",
   "execution_count": 14,
   "metadata": {},
   "outputs": [
    {
     "data": {
      "text/plain": [
       "{'place_id': 282669076,\n",
       " 'licence': 'Data © OpenStreetMap contributors, ODbL 1.0. https://osm.org/copyright',\n",
       " 'osm_type': 'relation',\n",
       " 'osm_id': 2297418,\n",
       " 'boundingbox': ['37.4285424', '37.7013911', '126.7644328', '127.1837702'],\n",
       " 'lat': '37.5666791',\n",
       " 'lon': '126.9782914',\n",
       " 'display_name': '서울, 대한민국',\n",
       " 'class': 'boundary',\n",
       " 'type': 'administrative',\n",
       " 'importance': 0.7397939847554467,\n",
       " 'icon': 'https://nominatim.openstreetmap.org/ui/mapicons//poi_boundary_administrative.p.20.png',\n",
       " 'address': {'city': '서울', 'country': '대한민국', 'country_code': 'kr'}}"
      ]
     },
     "execution_count": 14,
     "metadata": {},
     "output_type": "execute_result"
    }
   ],
   "source": [
    "from geopy.geocoders import Nominatim\n",
    "address = '서울'\n",
    "location = geolocator.geocode(address, addressdetails=True)\n",
    "\n",
    "location.raw"
   ]
  },
  {
   "cell_type": "code",
   "execution_count": 15,
   "metadata": {},
   "outputs": [
    {
     "data": {
      "text/plain": [
       "{'place_id': 282528618,\n",
       " 'licence': 'Data © OpenStreetMap contributors, ODbL 1.0. https://osm.org/copyright',\n",
       " 'osm_type': 'relation',\n",
       " 'osm_id': 65066,\n",
       " 'boundingbox': ['42.3536824', '42.3652645', '-71.1070792', '-71.0817242'],\n",
       " 'lat': '42.3582393',\n",
       " 'lon': '-71.09663495185691',\n",
       " 'display_name': 'Massachusetts Institute of Technology, Erie Street, Cambridgeport, Cambridge, Middlesex County, Massachusetts, 02139, United States',\n",
       " 'class': 'amenity',\n",
       " 'type': 'university',\n",
       " 'importance': 0.6467426277646406,\n",
       " 'icon': 'https://nominatim.openstreetmap.org/ui/mapicons//education_university.p.20.png',\n",
       " 'address': {'amenity': 'Massachusetts Institute of Technology',\n",
       "  'road': 'Erie Street',\n",
       "  'suburb': 'Cambridgeport',\n",
       "  'city': 'Cambridge',\n",
       "  'county': 'Middlesex County',\n",
       "  'state': 'Massachusetts',\n",
       "  'postcode': '02139',\n",
       "  'country': 'United States',\n",
       "  'country_code': 'us'}}"
      ]
     },
     "execution_count": 15,
     "metadata": {},
     "output_type": "execute_result"
    }
   ],
   "source": [
    "from geopy.geocoders import Nominatim\n",
    "address = 'MIT'\n",
    "location = geolocator.geocode(address, addressdetails=True)\n",
    "\n",
    "location.raw"
   ]
  },
  {
   "cell_type": "code",
   "execution_count": 16,
   "metadata": {},
   "outputs": [
    {
     "data": {
      "text/plain": [
       "{'place_id': 123502742,\n",
       " 'licence': 'Data © OpenStreetMap contributors, ODbL 1.0. https://osm.org/copyright',\n",
       " 'osm_type': 'way',\n",
       " 'osm_id': 99403577,\n",
       " 'boundingbox': ['53.4621149', '53.4641501', '-2.2933575', '-2.289427'],\n",
       " 'lat': '53.46310955',\n",
       " 'lon': '-2.2913864850545362',\n",
       " 'display_name': 'Old Trafford, Sir Matt Busby Way, Wharfside, Gorse Hill, Trafford, Greater Manchester, North West England, England, M16 0RA, United Kingdom',\n",
       " 'class': 'leisure',\n",
       " 'type': 'stadium',\n",
       " 'importance': 0.7798503798380465,\n",
       " 'address': {'leisure': 'Old Trafford',\n",
       "  'road': 'Sir Matt Busby Way',\n",
       "  'suburb': 'Wharfside',\n",
       "  'village': 'Gorse Hill',\n",
       "  'city': 'Trafford',\n",
       "  'county': 'Greater Manchester',\n",
       "  'state_district': 'North West England',\n",
       "  'state': 'England',\n",
       "  'postcode': 'M16 0RA',\n",
       "  'country': 'United Kingdom',\n",
       "  'country_code': 'gb'}}"
      ]
     },
     "execution_count": 16,
     "metadata": {},
     "output_type": "execute_result"
    }
   ],
   "source": [
    "from geopy.geocoders import Nominatim\n",
    "address = 'old trafford'\n",
    "location = geolocator.geocode(address, addressdetails=True)\n",
    "\n",
    "location.raw"
   ]
  },
  {
   "cell_type": "code",
   "execution_count": null,
   "metadata": {},
   "outputs": [],
   "source": []
  }
 ],
 "metadata": {
  "kernelspec": {
   "display_name": "Python 3 (ipykernel)",
   "language": "python",
   "name": "python3"
  },
  "language_info": {
   "codemirror_mode": {
    "name": "ipython",
    "version": 3
   },
   "file_extension": ".py",
   "mimetype": "text/x-python",
   "name": "python",
   "nbconvert_exporter": "python",
   "pygments_lexer": "ipython3",
   "version": "3.9.7"
  }
 },
 "nbformat": 4,
 "nbformat_minor": 4
}
