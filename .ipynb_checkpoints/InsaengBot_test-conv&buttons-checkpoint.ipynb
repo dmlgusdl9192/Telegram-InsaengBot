{
 "cells": [
  {
   "cell_type": "markdown",
   "metadata": {},
   "source": [
    "# InsaengBot using python-telegram-bot library"
   ]
  },
  {
   "cell_type": "code",
   "execution_count": 1,
   "metadata": {
    "scrolled": true
   },
   "outputs": [
    {
     "data": {
      "text/plain": [
       "\" A simple conversation bot, that takes user's name and saves it.\\n- Uses pickle persistence for storing data. You can easily use other ways.\\n- Uses polling for fetching updates, you can easily use webhooks.\\nCommands:\\n/start - replies if alive\\n/set_name - start a conversation to save name\\n/get_name - replies with user's name, if saved, else tells user to /set_name\\n\""
      ]
     },
     "execution_count": 1,
     "metadata": {},
     "output_type": "execute_result"
    }
   ],
   "source": [
    "''' A simple conversation bot, that takes user's name and saves it.\n",
    "- Uses pickle persistence for storing data. You can easily use other ways.\n",
    "- Uses polling for fetching updates, you can easily use webhooks.\n",
    "Commands:\n",
    "/start - replies if alive\n",
    "/set_name - start a conversation to save name\n",
    "/get_name - replies with user's name, if saved, else tells user to /set_name\n",
    "'''"
   ]
  },
  {
   "cell_type": "code",
   "execution_count": 1,
   "metadata": {},
   "outputs": [],
   "source": [
    "from privateFiles.WeatherAPI import key  as wapi_key, \\\n",
    "                                    host as wapi_host\n",
    "\n",
    "from privateFiles.GeoPy import user_agent"
   ]
  },
  {
   "cell_type": "code",
   "execution_count": 2,
   "metadata": {},
   "outputs": [],
   "source": [
    "import logging\n",
    "from telegram.ext.filters import Filters\n",
    "\n",
    "from telegram.ext.messagehandler import MessageHandler\n",
    "from privateFiles.insaengbotToken import token\n",
    "from telegram import Update\n",
    "from telegram.ext import (Updater,\n",
    "                          PicklePersistence,\n",
    "                          PrefixHandler,\n",
    "                          CallbackQueryHandler,\n",
    "                          CallbackContext,\n",
    "                          ConversationHandler)\n",
    "from telegram import InlineKeyboardButton, InlineKeyboardMarkup, ForceReply"
   ]
  },
  {
   "cell_type": "code",
   "execution_count": 3,
   "metadata": {},
   "outputs": [],
   "source": [
    "# logs\n",
    "import logging\n",
    "logging.basicConfig(level=logging.INFO,\n",
    "                    format='%(asctime)s - %(name)s - %(levelname)s - %(message)s')\n",
    "# call bot\n",
    "import telegram\n",
    "bot = telegram.Bot(token=token)\n",
    "#print(bot.get_me())"
   ]
  },
  {
   "cell_type": "code",
   "execution_count": 4,
   "metadata": {},
   "outputs": [],
   "source": [
    "from telegram.ext import Updater\n",
    "updater = Updater(token=token, use_context=True)\n",
    "dispatcher = updater.dispatcher"
   ]
  },
  {
   "cell_type": "code",
   "execution_count": 5,
   "metadata": {},
   "outputs": [],
   "source": [
    "# define a function that processes a specific type of update\n",
    "def start_weather(update, context):\n",
    "    \"\"\"\n",
    "    Start weather conversation\n",
    "    \"\"\"\n",
    "    context.bot.send_message(chat_id=update.effective_chat.id, \n",
    "                             text=\"Weather by Insaengbot.\\nEnter location or !cancel to exit.\")\n",
    "    return 'LOCATION'"
   ]
  },
  {
   "cell_type": "code",
   "execution_count": 6,
   "metadata": {},
   "outputs": [],
   "source": [
    "from geopy.geocoders import Nominatim\n",
    "\n",
    "def location(update, context):\n",
    "    \"\"\"\n",
    "    Stores location and then ask for what type of wheather the user wants to know. \n",
    "    User can choose from current, tomorrow, or \n",
    "        temp & prec/snow for: 7 days || next 8 hours || every 3 hours for the next 24 hours\n",
    "    \"\"\"\n",
    "    user_input = update.message.text\n",
    "    geolocator = Nominatim(user_agent=user_agent)\n",
    "    geolocation = geolocator.geocode(user_input)\n",
    "    google_map = \"https://www.google.com/maps?q={},{}\".format(geolocation.latitude,\n",
    "                                                              geolocation.longitude)\n",
    "    print(type(geolocation))\n",
    "    \n",
    "    # Storing user input of location\n",
    "    context.user_data['geolocation']=geolocation\n",
    "    \n",
    "    reply_buttons = InlineKeyboardMarkup([\n",
    "        [\n",
    "            InlineKeyboardButton(\"Now\", callback_data = \"now\"),\n",
    "            InlineKeyboardButton(\"Today\", callback_data = \"today\"),\n",
    "            InlineKeyboardButton(\"Tomorrow\", callback_data = \"tmr\"),\n",
    "        ],\n",
    "        [\n",
    "            InlineKeyboardButton(\"5 days\", callback_data = \"5d\"),\n",
    "            InlineKeyboardButton(\"12h (3hourly)\", callback_data = \"12h-3h\")\n",
    "        ]\n",
    "    ])\n",
    "    update.message.reply_text(\n",
    "        \"{}: ...{}.\\n{}\\nChoose an option:\".format(str.upper(user_input), \n",
    "                                                              geolocation.address[-30:],\n",
    "                                                              google_map),\n",
    "        reply_markup=reply_buttons\n",
    "    )\n",
    "    return 'WEATHER_ANSWER'"
   ]
  },
  {
   "cell_type": "code",
   "execution_count": 7,
   "metadata": {},
   "outputs": [],
   "source": [
    "def weather_answer(update, context):\n",
    "    # Must call answer!\n",
    "    update.callback_query.answer()\n",
    "    \n",
    "    button = update.callback_query.data\n",
    "    geolocation = context.user_data.get('geolocation')\n",
    "    \n",
    "    # storing button click result\n",
    "    context.user_data['button']=button\n",
    "    # Remove buttons\n",
    "    update.callback_query.message.edit_reply_markup(\n",
    "        reply_markup = InlineKeyboardMarkup([])\n",
    "    )\n",
    "    if button == \"now\":\n",
    "        update.callback_query.message.reply_text(\n",
    "            text=\"Current weather:\\n{}\".format(get_weather_now(geolocation))\n",
    "        )\n",
    "    elif button == \"today\":\n",
    "        update.callback_query.message.reply_text(\n",
    "            text=\"Today weather:\\n{}\".format(get_weather_after_n_days(geolocation,0))\n",
    "        )\n",
    "    elif button == \"tmr\":\n",
    "        update.callback_query.message.reply_text(\n",
    "            text=\"Tomorrow weather:\\n{}\".format(get_weather_after_n_days(geolocation,1))\n",
    "        )\n",
    "    elif button == \"5d\":\n",
    "        update.callback_query.message.reply_text(\n",
    "            text=\"Weather for 5 days:\\n{}\".format(get_weather_ndays(geolocation,5))\n",
    "        )\n",
    "    elif button == \"12h-3h\":\n",
    "        update.callback_query.message.reply_text(\n",
    "            text=\"Weather for next 12 hours every 3h:\\n{}\".format(get_weather_nhours(geolocation,13,3))\n",
    "        )\n",
    "    else:\n",
    "        update.callback_query.message.reply_text(\n",
    "            text=\"Work in progress\"\n",
    "        )\n",
    "    return ConversationHandler.END"
   ]
  },
  {
   "cell_type": "code",
   "execution_count": 8,
   "metadata": {},
   "outputs": [],
   "source": [
    "import requests\n",
    "import json\n",
    "\n",
    "def get_weather_now(geolocation):\n",
    "    url = \"https://weatherbit-v1-mashape.p.rapidapi.com/current\"\n",
    "    lon, lat = geolocation.longitude, geolocation.latitude\n",
    "    querystring = {\"lon\":str(lon),\"lat\":str(lat),\"units\":\"metric\"}\n",
    "\n",
    "    headers = {\n",
    "        'x-rapidapi-host': \"weatherbit-v1-mashape.p.rapidapi.com\",\n",
    "        'x-rapidapi-key': wapi_key\n",
    "        }\n",
    "\n",
    "    response = requests.request(\"GET\", url, headers=headers, params=querystring)\n",
    "\n",
    "    response_json = json.loads(response.text)\n",
    "    weather_data = response_json['data'][0]\n",
    "    \n",
    "    target_info = {('weather','description'):\"  {}\",\n",
    "                   'temp':\"  Cur temp: {} C\",\n",
    "                   'app_temp':\"  Feels like: {} C\",\n",
    "                   'wind_spd':\"  Wind: {:.2f} m/s\",\n",
    "                   #'wind_cdir':\"towards {}\",\n",
    "                   'precip':\"  Precipitation: {:.2f} mm/h\",\n",
    "                   'snow':\"  Snow: {:.2f} mm/h\",\n",
    "                   'rh':\"  Humidity: {}%\"}\n",
    "    ans = \"\"\n",
    "    for keys in target_info:\n",
    "        temp = weather_data\n",
    "        if type(keys) is str:\n",
    "            temp = temp[keys]\n",
    "        elif type(keys) is tuple:\n",
    "            for key in keys:\n",
    "                temp = temp[key]\n",
    "        ans += target_info[keys].format(temp) +\"\\n\"\n",
    "    print(ans)\n",
    "    return ans"
   ]
  },
  {
   "cell_type": "code",
   "execution_count": 9,
   "metadata": {},
   "outputs": [],
   "source": [
    "def get_weather_after_n_days(geolocation,n):\n",
    "    \"\"\"\n",
    "    Retrieve weather for nth day from now. \n",
    "    Today: n=0, Tomorrow: n=1\n",
    "    \"\"\"\n",
    "    url = \"https://weatherbit-v1-mashape.p.rapidapi.com/forecast/daily\"\n",
    "    lon, lat = geolocation.longitude, geolocation.latitude\n",
    "    querystring = {\"lon\":str(lon),\"lat\":str(lat),\"units\":\"metric\"}\n",
    "\n",
    "    headers = {\n",
    "        'x-rapidapi-host': \"weatherbit-v1-mashape.p.rapidapi.com\",\n",
    "        'x-rapidapi-key': wapi_key\n",
    "        }\n",
    "\n",
    "    response = requests.request(\"GET\", url, headers=headers, params=querystring)\n",
    "\n",
    "    response_json = json.loads(response.text)\n",
    "    weather_data = response_json['data'][n]\n",
    "    \n",
    "    ans = \"\"\n",
    "    ans += \"     {}\".format(weather_data['weather']['description']) +\"\\n\"\n",
    "    ans += \"Avg temp: {}C\\n     High: {}C | Low: {}C\".format(weather_data['temp'],\n",
    "                                                                 weather_data['max_temp'],\n",
    "                                                                 weather_data['min_temp']) + \"\\n\"\n",
    "    ans += \"Feels like:\\n     High: {}C | Low: {}C\".format(weather_data['app_max_temp'],\n",
    "                                                        weather_data['app_min_temp']) +\"\\n\"\n",
    "    ans += \"Chance of rain/snow: {}%\".format(weather_data['pop']) + \"\\n\"\n",
    "    ans += \"Total rain: {}mm\".format(weather_data['precip']) + \"\\n\"\n",
    "    ans += \"Total snow: {}mm\".format(weather_data['snow'])\n",
    "    \n",
    "    print(ans)\n",
    "    return ans"
   ]
  },
  {
   "cell_type": "code",
   "execution_count": 10,
   "metadata": {},
   "outputs": [],
   "source": [
    "def get_weather_ndays(geolocation, n=5):\n",
    "    \"\"\"\n",
    "    Retrieve weather for next n days.\n",
    "    Default is 5 days. \n",
    "    \"\"\"\n",
    "    url = \"https://weatherbit-v1-mashape.p.rapidapi.com/forecast/daily\"\n",
    "    lon, lat = geolocation.longitude, geolocation.latitude\n",
    "    querystring = {\"lon\":str(lon),\"lat\":str(lat),\"units\":\"metric\"}\n",
    "\n",
    "    headers = {\n",
    "        'x-rapidapi-host': \"weatherbit-v1-mashape.p.rapidapi.com\",\n",
    "        'x-rapidapi-key': wapi_key\n",
    "        }\n",
    "\n",
    "    response = requests.request(\"GET\", url, headers=headers, params=querystring)\n",
    "\n",
    "    response_json = json.loads(response.text)\n",
    "    weather_data = response_json['data'][:n]\n",
    "    \n",
    "    datetimes = [weather_data[x]['datetime'][5:] for x in range(n)]\n",
    "    weather_descs = [weather_data[x]['weather']['description'] for x in range(n)]\n",
    "    avg_temps = [weather_data[x]['temp'] for x in range(n)]\n",
    "    rain_chances = [weather_data[x]['pop'] for x in range(n)]\n",
    "    \n",
    "    ans = \"\"\n",
    "    for x in range(n):\n",
    "        ans += \"  \" + datetimes[x] + \": \"\n",
    "        ans += weather_descs[x] + \"\\n    \"\n",
    "        ans += \"Avg temp: \" + str(avg_temps[x]) + \"C | \"\n",
    "        ans += \"Prec: \" + str(rain_chances[x]) + \"%\\n\"\n",
    "        \n",
    "    print(ans)\n",
    "    return ans"
   ]
  },
  {
   "cell_type": "code",
   "execution_count": 11,
   "metadata": {},
   "outputs": [],
   "source": [
    "def get_weather_nhours(geolocation, n=13, m=3):\n",
    "    \"\"\"\n",
    "    Retrieve weather m-hourly for the next n hours.\n",
    "    Default is 3 hourly for 13 hours. \n",
    "    \"\"\"\n",
    "    url = \"https://weatherbit-v1-mashape.p.rapidapi.com/forecast/hourly\"\n",
    "    lon, lat = geolocation.longitude, geolocation.latitude\n",
    "    querystring = {\"lon\":str(lon),\"lat\":str(lat),\"hours\":\"13\",\"units\":\"metric\"}\n",
    "\n",
    "    headers = {\n",
    "        'x-rapidapi-host': \"weatherbit-v1-mashape.p.rapidapi.com\",\n",
    "        'x-rapidapi-key': wapi_key\n",
    "        }\n",
    "\n",
    "    response = requests.request(\"GET\", url, headers=headers, params=querystring)\n",
    "\n",
    "    response_json = json.loads(response.text)\n",
    "    weather_data = response_json['data'][:n]\n",
    "    \n",
    "    timestamp_local = [weather_data[x]['timestamp_local'][5:10] \n",
    "                       + \" \" \n",
    "                       + weather_data[x]['timestamp_local'][10:13] for x in range(n)]\n",
    "    weather_desc = [weather_data[x]['weather']['description'] for x in range(n)]\n",
    "    temp = [weather_data[x]['temp'] for x in range(n)]\n",
    "    pop = [weather_data[x]['pop'] for x in range(n)]\n",
    "    wind_spd = [weather_data[x]['wind_spd'] for x in range(n)]\n",
    "    \n",
    "    ans = \"\"\n",
    "    for x in range(0,n,3):\n",
    "        ans += timestamp_local[x] + \": \"\n",
    "        ans += weather_desc[x] + \"\\n  \"\n",
    "        ans += \"Temp: \" + str(temp[x]) + \"C | \"\n",
    "        ans += \"Prec: \" + str(pop[x]) + \"% | \"\n",
    "        ans += \"Wind: \" + str(round(wind_spd[x],2)) + \"m/s\\n\"\n",
    "        \n",
    "    print(ans)\n",
    "    return ans"
   ]
  },
  {
   "cell_type": "code",
   "execution_count": 12,
   "metadata": {},
   "outputs": [],
   "source": [
    "def cancel(update, context):\n",
    "#     update.message.reply_text('Exiting weather, TY.')\n",
    "    context.bot.send_message(chat_id=update.effective_chat.id, \n",
    "                             text=\"Weather by Insaengbot.\\nEnter location or !cancel to exit.\")\n",
    "    return ConversationHandler.END\n",
    "    "
   ]
  },
  {
   "cell_type": "code",
   "execution_count": 13,
   "metadata": {},
   "outputs": [
    {
     "name": "stderr",
     "output_type": "stream",
     "text": [
      "C:\\Users\\dmlgu\\anaconda3\\lib\\site-packages\\telegram\\ext\\conversationhandler.py:287: UserWarning: If 'per_message=False', 'CallbackQueryHandler' will not be tracked for every message.\n",
      "  warnings.warn(\n"
     ]
    }
   ],
   "source": [
    "# GENDER: [MessageHandler(Filters.regex('^(Boy|Girl|Other)$'), gender)],\n",
    "wth_conv_handler = ConversationHandler(\n",
    "    entry_points=[MessageHandler(Filters.regex('^(날씨|weather)$'),start_weather)],\n",
    "    states={\n",
    "        'LOCATION': [MessageHandler(Filters.text & (~Filters.command) & Filters.regex('^(?!!cancel)'), \n",
    "                                    callback=location)],\n",
    "        'WEATHER_ANSWER': [CallbackQueryHandler(weather_answer)]\n",
    "    },\n",
    "    fallbacks=[PrefixHandler('!','cancel',cancel)]\n",
    ")\n"
   ]
  },
  {
   "cell_type": "code",
   "execution_count": 14,
   "metadata": {},
   "outputs": [],
   "source": [
    "dispatcher.add_handler(wth_conv_handler)"
   ]
  },
  {
   "cell_type": "code",
   "execution_count": 15,
   "metadata": {
    "scrolled": true
   },
   "outputs": [
    {
     "name": "stderr",
     "output_type": "stream",
     "text": [
      "2021-12-30 02:49:50,395 - apscheduler.scheduler - INFO - Scheduler started\n"
     ]
    },
    {
     "data": {
      "text/plain": [
       "<queue.Queue at 0x27f7c0c4220>"
      ]
     },
     "execution_count": 15,
     "metadata": {},
     "output_type": "execute_result"
    },
    {
     "name": "stdout",
     "output_type": "stream",
     "text": [
      "<class 'geopy.location.Location'>\n",
      "  Overcast clouds\n",
      "  Cur temp: 0 C\n",
      "  Feels like: -0.8 C\n",
      "  Wind: 1.00 m/s\n",
      "  Precipitation: 0.00 mm/h\n",
      "  Snow: 0.00 mm/h\n",
      "  Humidity: 99%\n",
      "\n"
     ]
    },
    {
     "name": "stderr",
     "output_type": "stream",
     "text": [
      "2021-12-30 02:50:42,233 - telegram.ext.dispatcher - ERROR - No error handlers are registered, logging exception.\n",
      "Traceback (most recent call last):\n",
      "  File \"C:\\Users\\dmlgu\\anaconda3\\lib\\site-packages\\telegram\\ext\\dispatcher.py\", line 555, in process_update\n",
      "    handler.handle_update(update, self, check, context)\n",
      "  File \"C:\\Users\\dmlgu\\anaconda3\\lib\\site-packages\\telegram\\ext\\conversationhandler.py\", line 626, in handle_update\n",
      "    new_state = handler.handle_update(update, dispatcher, check_result, context)\n",
      "  File \"C:\\Users\\dmlgu\\anaconda3\\lib\\site-packages\\telegram\\ext\\handler.py\", line 198, in handle_update\n",
      "    return self.callback(update, context)\n",
      "  File \"C:\\Users\\dmlgu\\AppData\\Local\\Temp/ipykernel_1256/2105621399.py\", line 12, in location\n",
      "    google_map = \"https://www.google.com/maps?q={},{}\".format(geolocation.latitude,\n",
      "AttributeError: 'NoneType' object has no attribute 'latitude'\n"
     ]
    },
    {
     "name": "stdout",
     "output_type": "stream",
     "text": [
      "<class 'geopy.location.Location'>\n",
      "     Light snow\n",
      "Avg temp: 0.5C\n",
      "     High: 1.8C | Low: -0.6C\n",
      "Feels like:\n",
      "     High: 1.3C | Low: -3.8C\n",
      "Chance of rain/snow: 30%\n",
      "Total rain: 0.151917mm\n",
      "Total snow: 1.52312mm\n",
      "<class 'geopy.location.Location'>\n",
      "     Overcast clouds\n",
      "Avg temp: 1.5C\n",
      "     High: 3.2C | Low: -1.5C\n",
      "Feels like:\n",
      "     High: 1.1C | Low: -6.8C\n",
      "Chance of rain/snow: 20%\n",
      "Total rain: 0.0129929mm\n",
      "Total snow: 0mm\n",
      "<class 'geopy.location.Location'>\n",
      "     Light snow\n",
      "Avg temp: -5.7C\n",
      "     High: -2.9C | Low: -9.1C\n",
      "Feels like:\n",
      "     High: -3.9C | Low: -16.2C\n",
      "Chance of rain/snow: 70%\n",
      "Total rain: 0.757599mm\n",
      "Total snow: 9.09119mm\n",
      "<class 'geopy.location.Location'>\n",
      "     Light rain\n",
      "Avg temp: 7.6C\n",
      "     High: 11.8C | Low: 2.5C\n",
      "Feels like:\n",
      "     High: 11.8C | Low: -1.8C\n",
      "Chance of rain/snow: 85%\n",
      "Total rain: 5.14331mm\n",
      "Total snow: 0mm\n",
      "<class 'geopy.location.Location'>\n",
      "     Light shower rain\n",
      "Avg temp: 11.4C\n",
      "     High: 13.6C | Low: 9.6C\n",
      "Feels like:\n",
      "     High: 13.6C | Low: 9.6C\n",
      "Chance of rain/snow: 65%\n",
      "Total rain: 2.05908mm\n",
      "Total snow: 0mm\n"
     ]
    }
   ],
   "source": [
    "# Run to start the bot\n",
    "updater.start_polling(timeout=3, drop_pending_updates=True)"
   ]
  },
  {
   "cell_type": "code",
   "execution_count": 16,
   "metadata": {},
   "outputs": [
    {
     "name": "stderr",
     "output_type": "stream",
     "text": [
      "2021-12-30 02:52:36,001 - apscheduler.scheduler - INFO - Scheduler has been shut down\n"
     ]
    }
   ],
   "source": [
    "# stop the bot\n",
    "updater.stop()"
   ]
  },
  {
   "cell_type": "code",
   "execution_count": null,
   "metadata": {},
   "outputs": [],
   "source": [
    "#bug: fails when the location is not searchable"
   ]
  },
  {
   "cell_type": "code",
   "execution_count": null,
   "metadata": {},
   "outputs": [],
   "source": []
  }
 ],
 "metadata": {
  "kernelspec": {
   "display_name": "Python 3 (ipykernel)",
   "language": "python",
   "name": "python3"
  },
  "language_info": {
   "codemirror_mode": {
    "name": "ipython",
    "version": 3
   },
   "file_extension": ".py",
   "mimetype": "text/x-python",
   "name": "python",
   "nbconvert_exporter": "python",
   "pygments_lexer": "ipython3",
   "version": "3.9.7"
  }
 },
 "nbformat": 4,
 "nbformat_minor": 2
}
