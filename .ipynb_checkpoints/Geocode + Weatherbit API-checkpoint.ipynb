{
 "cells": [
  {
   "cell_type": "markdown",
   "metadata": {},
   "source": [
    "# Geocode with Python\n",
    "https://towardsdatascience.com/geocode-with-python-161ec1e62b89"
   ]
  },
  {
   "cell_type": "markdown",
   "metadata": {},
   "source": [
    "# Weatherbit API\n",
    "documentation: https://www.weatherbit.io/api/weather-current"
   ]
  },
  {
   "cell_type": "code",
   "execution_count": 12,
   "metadata": {},
   "outputs": [],
   "source": [
    "from geopy.geocoders import Nominatim\n",
    "from functools import partial\n",
    "import requests\n",
    "import json\n",
    "\n",
    "city = \"Guelph\""
   ]
  },
  {
   "cell_type": "code",
   "execution_count": 8,
   "metadata": {},
   "outputs": [
    {
     "name": "stdout",
     "output_type": "stream",
     "text": [
      "Guelph, Southwestern Ontario, Ontario, Canada\n"
     ]
    },
    {
     "data": {
      "text/plain": [
       "'43.5460516'"
      ]
     },
     "execution_count": 8,
     "metadata": {},
     "output_type": "execute_result"
    }
   ],
   "source": [
    "locator = Nominatim(user_agent=\"myGeocoder\")\n",
    "location = locator.geocode(city)\n",
    "geocode = partial(locator.geocode, language=\"en\")\n",
    "print(geocode(city))"
   ]
  },
  {
   "cell_type": "code",
   "execution_count": 10,
   "metadata": {},
   "outputs": [],
   "source": [
    "url = \"https://weatherbit-v1-mashape.p.rapidapi.com/current\"\n",
    "\n",
    "querystring = {\"lon\":str(location.longitude),\"lat\":str(location.latitude),\"units\":\"metric\"}\n",
    "\n",
    "headers = {\n",
    "    'x-rapidapi-host': \"weatherbit-v1-mashape.p.rapidapi.com\",\n",
    "    'x-rapidapi-key': \"6a5e3434a3msh5957f2c217abe05p12d28ajsnbcfabb94ecb7\"\n",
    "    }\n",
    "\n",
    "response = requests.request(\"GET\", url, headers=headers, params=querystring)"
   ]
  },
  {
   "cell_type": "code",
   "execution_count": 11,
   "metadata": {},
   "outputs": [
    {
     "name": "stdout",
     "output_type": "stream",
     "text": [
      "{\"data\":[{\"rh\":93,\"pod\":\"n\",\"lon\":-80.25,\"pres\":972.3,\"timezone\":\"America\\/Toronto\",\"ob_time\":\"2021-10-27 01:36\",\"country_code\":\"CA\",\"clouds\":0,\"ts\":1635298560,\"solar_rad\":0,\"state_code\":\"08\",\"city_name\":\"Guelph\",\"wind_spd\":1.79,\"wind_cdir_full\":\"north-northwest\",\"wind_cdir\":\"NNW\",\"slp\":1011.7,\"vis\":5,\"h_angle\":-90,\"sunset\":\"22:18\",\"dni\":0,\"dewpt\":5.2,\"snow\":0,\"uv\":0,\"precip\":0,\"wind_dir\":342,\"sunrise\":\"11:49\",\"ghi\":0,\"dhi\":0,\"aqi\":11,\"lat\":43.55,\"weather\":{\"icon\":\"c02n\",\"code\":802,\"description\":\"Scattered clouds\"},\"datetime\":\"2021-10-27:01\",\"temp\":6.1,\"station\":\"F5184\",\"elev_angle\":-29.6,\"app_temp\":4.9}],\"count\":1}\n",
      "\n"
     ]
    }
   ],
   "source": [
    "print(response.text)"
   ]
  },
  {
   "cell_type": "code",
   "execution_count": 13,
   "metadata": {},
   "outputs": [],
   "source": [
    "response_json = json.loads(response.text)\n",
    "weather_data = response_json['data'][0]"
   ]
  },
  {
   "cell_type": "code",
   "execution_count": 14,
   "metadata": {},
   "outputs": [],
   "source": [
    "targets = {('weather','description'):\"{}\",\n",
    "           'temp':\"Cur temp: {} C\",\n",
    "           'app_temp':\"Feels like: {} C\",\n",
    "           'wind_spd':\"Wind: {} m/s\",\n",
    "           #'wind_cdir':\"towards {}\",\n",
    "           'precip':\"Precipitation: {} mm/hr\",\n",
    "           'snow':\"Snow: {} mm/hr\",\n",
    "           'rh':\"Humidity: {}%\"}"
   ]
  },
  {
   "cell_type": "code",
   "execution_count": 16,
   "metadata": {},
   "outputs": [
    {
     "name": "stdout",
     "output_type": "stream",
     "text": [
      "Guelph\n",
      "Guelph, Southwestern Ontario, Ontario, Canada\n",
      "Scattered clouds\n",
      "Cur temp: 6.1 C\n",
      "Feels like: 4.9 C\n",
      "Wind: 1.79 m/s\n",
      "Precipitation: 0 mm/hr\n",
      "Snow: 0 mm/hr\n",
      "Humidity: 93%\n"
     ]
    }
   ],
   "source": [
    "print(city)\n",
    "print(geocode(city))\n",
    "\n",
    "for keys in targets:\n",
    "    temp = weather_data\n",
    "    if type(keys) is str:\n",
    "        temp = temp[keys]\n",
    "    elif type(keys) is tuple:\n",
    "        for key in keys:\n",
    "            temp = temp[key]\n",
    "    print(targets[keys].format(temp))"
   ]
  },
  {
   "cell_type": "code",
   "execution_count": null,
   "metadata": {},
   "outputs": [],
   "source": [
    "https://www.youtube.com/watch?v=_7qf9cWlnmo"
   ]
  }
 ],
 "metadata": {
  "kernelspec": {
   "display_name": "Python 3",
   "language": "python",
   "name": "python3"
  },
  "language_info": {
   "codemirror_mode": {
    "name": "ipython",
    "version": 3
   },
   "file_extension": ".py",
   "mimetype": "text/x-python",
   "name": "python",
   "nbconvert_exporter": "python",
   "pygments_lexer": "ipython3",
   "version": "3.8.5"
  }
 },
 "nbformat": 4,
 "nbformat_minor": 4
}
