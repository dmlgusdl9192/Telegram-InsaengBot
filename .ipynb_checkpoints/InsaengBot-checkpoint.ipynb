{
 "cells": [
  {
   "cell_type": "markdown",
   "metadata": {},
   "source": [
    "# InsaengBot using python-telegram-bot library"
   ]
  },
  {
   "cell_type": "code",
   "execution_count": null,
   "metadata": {},
   "outputs": [],
   "source": [
    "from privateFiles.insaengbotToken import token"
   ]
  },
  {
   "cell_type": "code",
   "execution_count": null,
   "metadata": {},
   "outputs": [],
   "source": [
    "# logs\n",
    "import logging\n",
    "logging.basicConfig(level=logging.INFO,\n",
    "                    format='%(asctime)s - %(name)s - %(levelname)s - %(message)s')\n",
    "# call bot\n",
    "import telegram\n",
    "bot = telegram.Bot(token=token)\n",
    "#print(bot.get_me())"
   ]
  },
  {
   "cell_type": "code",
   "execution_count": null,
   "metadata": {},
   "outputs": [],
   "source": [
    "from telegram.ext import Updater\n",
    "updater = Updater(token=token, use_context=True)\n",
    "dispatcher = updater.dispatcher"
   ]
  },
  {
   "cell_type": "code",
   "execution_count": null,
   "metadata": {},
   "outputs": [],
   "source": [
    "# define a function that processes a specific type of update\n",
    "def start(update, context):\n",
    "    \"\"\"\n",
    "    Answers \"I'm a bot, please talk to me!\"\n",
    "    \"\"\"\n",
    "    print(type(context.bot))\n",
    "    context.bot.send_message(chat_id=update.effective_chat.id, text=\"I'm a bot, please talk to me!\")\n",
    "    \n",
    "# The goal is to have the 'start' function called every time the Bot receives a Telegram \n",
    "# message that contains the /start command. To accomplish that, you can use a CommandHandler \n",
    "# (one of the provided Handler subclasses) and register it in the dispatcher:\n",
    "\n",
    "from telegram.ext import CommandHandler\n",
    "start_handler = CommandHandler('start', start)\n",
    "dispatcher.add_handler(start_handler)"
   ]
  },
  {
   "cell_type": "code",
   "execution_count": null,
   "metadata": {},
   "outputs": [],
   "source": [
    "import random\n",
    "import re #import regex\n",
    "\n",
    "def versus(msg):\n",
    "    \"\"\"\n",
    "    Select random output from a string that is separated by one or more \"vs\".\n",
    "    A unique \"vs\" is identified by tailing and fronting space, tab, new line or return character.\n",
    "    \"\"\"\n",
    "    \n",
    "    print(\"Function: versus\")\n",
    "    print(\"Message: \",msg)\n",
    "    answer_msg = \"\"\n",
    "    #transform msg\n",
    "    if re.search(\"[ \\t\\n\\r]+vs[ \\t\\n\\r]+\", msg):\n",
    "        temp = re.split(\"[ \\t\\n\\r]+vs[ \\t\\n\\r]+\",msg)\n",
    "        print(temp)\n",
    "        answer_msg = random.choice(temp)\n",
    "    return answer_msg\n",
    "        \n",
    "\n",
    "def isAble(msg):\n",
    "    \"\"\"\n",
    "    Answers yes or no to user questions ending with \"ㄱㄴ?\"\n",
    "    \"\"\"\n",
    "    print(\"Function: isAble\")\n",
    "    print(\"Message: \",msg)\n",
    "    answer_msg = \"\"\n",
    "    if re.search(\"^(ㄱㄴ\\?+)$|([ \\t\\n\\r]ㄱㄴ\\?+)$\", msg):\n",
    "        yes_list = [\"ㅇㅇ\", \"ㄱㄴ!\" , \"ㅇㅋ\"]\n",
    "        no_list  = [\"ㄴㄴ\", \"자제점;;\", \"않이\"]\n",
    "        answer_list = random.choice([yes_list, no_list])\n",
    "        answer_msg = random.choice(answer_list)\n",
    "    return answer_msg"
   ]
  },
  {
   "cell_type": "code",
   "execution_count": null,
   "metadata": {},
   "outputs": [],
   "source": [
    "def msg_fn_group0(update, context):\n",
    "    \"\"\"\n",
    "    Message function group for 'versus' and 'isAble' text functions.\n",
    "    Executes message in the order of 'versus' then 'isAble'.\n",
    "    \"\"\"\n",
    "    user_msg = update.message.text\n",
    "    print(user_msg)\n",
    "    answer_msg_dict = {\"versus\": \"\",\n",
    "                        \"isAble\": \"\"}\n",
    "    answer_msg_dict[\"versus\"] = versus(user_msg)\n",
    "    answer_msg_dict[\"isAble\"] = isAble(answer_msg_dict[\"versus\"]) if answer_msg_dict[\"versus\"]\n",
    "                                                                else isAble(user_msg)\n",
    "    print(answer_msg_dict)\n",
    "    order = [\"versus\", \"isAble\"]\n",
    "    \n",
    "    answer_msg = '\\n'.join([answer_msg_dict[x] for x in order if answer_msg_dict[x]])\n",
    "    print(answer_msg)\n",
    "    if answer_msg:\n",
    "        context.bot.send_message(chat_id=update.effective_chat.id, text=answer_msg)\n",
    "\n",
    "# Message handler for versus and isAble functions. \n",
    "# Uses a filter to filter out any commands. (Commands start with a '/' (slash))\n",
    "from telegram.ext import MessageHandler, Filters\n",
    "msg_handler0 = MessageHandler(Filters.text & (~Filters.command), msg_fn_group0)\n",
    "dispatcher.add_handler(msg_handler0, group = 0)"
   ]
  },
  {
   "cell_type": "code",
   "execution_count": null,
   "metadata": {},
   "outputs": [],
   "source": [
    "# Run to start the bot\n",
    "updater.start_polling(timeout=3, drop_pending_updates=True)"
   ]
  },
  {
   "cell_type": "code",
   "execution_count": null,
   "metadata": {},
   "outputs": [],
   "source": [
    "# stop the bot\n",
    "updater.stop()"
   ]
  },
  {
   "cell_type": "code",
   "execution_count": null,
   "metadata": {},
   "outputs": [],
   "source": []
  },
  {
   "cell_type": "code",
   "execution_count": null,
   "metadata": {},
   "outputs": [],
   "source": [
    "re.search(\"^(ㄱㄴ\\?)$|([ \\t\\n\\r]ㄱㄴ\\?)$\", \"ㄱㄴ?\")"
   ]
  }
 ],
 "metadata": {
  "kernelspec": {
   "display_name": "Python 3",
   "language": "python",
   "name": "python3"
  },
  "language_info": {
   "codemirror_mode": {
    "name": "ipython",
    "version": 3
   },
   "file_extension": ".py",
   "mimetype": "text/x-python",
   "name": "python",
   "nbconvert_exporter": "python",
   "pygments_lexer": "ipython3",
   "version": "3.8.5"
  }
 },
 "nbformat": 4,
 "nbformat_minor": 2
}
