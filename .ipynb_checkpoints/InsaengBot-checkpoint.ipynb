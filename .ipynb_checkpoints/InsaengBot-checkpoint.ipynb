{
 "cells": [
  {
   "cell_type": "markdown",
   "metadata": {},
   "source": [
    "# InsaengBot using python-telegram-bot library"
   ]
  },
  {
   "cell_type": "code",
   "execution_count": 11,
   "metadata": {},
   "outputs": [],
   "source": [
    "from privateFiles.insaengbotToken import token"
   ]
  },
  {
   "cell_type": "code",
   "execution_count": 12,
   "metadata": {},
   "outputs": [],
   "source": [
    "# logs\n",
    "import logging\n",
    "logging.basicConfig(level=logging.INFO,\n",
    "                    format='%(asctime)s - %(name)s - %(levelname)s - %(message)s')\n",
    "# call bot\n",
    "import telegram\n",
    "bot = telegram.Bot(token=token)\n",
    "#print(bot.get_me())"
   ]
  },
  {
   "cell_type": "code",
   "execution_count": 13,
   "metadata": {},
   "outputs": [],
   "source": [
    "from telegram.ext import Updater\n",
    "updater = Updater(token=token, use_context=True)\n",
    "dispatcher = updater.dispatcher"
   ]
  },
  {
   "cell_type": "code",
   "execution_count": 14,
   "metadata": {},
   "outputs": [],
   "source": [
    "# define a function that processes a specific type of update\n",
    "def start(update, context):\n",
    "    \"\"\"\n",
    "    Answers \"I'm a bot, please talk to me!\"\n",
    "    \"\"\"\n",
    "    print(type(context.bot))\n",
    "    context.bot.send_message(chat_id=update.effective_chat.id, text=\"I'm a bot, please talk to me!\")\n",
    "    \n",
    "# The goal is to have the 'start' function called every time the Bot receives a Telegram \n",
    "# message that contains the /start command. To accomplish that, you can use a CommandHandler \n",
    "# (one of the provided Handler subclasses) and register it in the dispatcher:\n",
    "\n",
    "from telegram.ext import PrefixHandler\n",
    "start_handler = PrefixHandler('!','start', start)\n",
    "dispatcher.add_handler(start_handler)"
   ]
  },
  {
   "cell_type": "code",
   "execution_count": 15,
   "metadata": {},
   "outputs": [],
   "source": [
    "from telegram import Update, InlineKeyboardButton, InlineKeyboardMarkup\n",
    "\n",
    "def weather_button(update, context):\n",
    "    reply_buttons = InlineKeyboardMarkup([\n",
    "        [InlineKeyboardButton(\"Current\", callback_data = \"1\"),\n",
    "         InlineKeyboardButton(\"Tomorrow\", callback_data = \"2\"),\n",
    "         InlineKeyboardButton(\"3Hourly (12h)\", callback_data = \"3\")],\n",
    "        [\n",
    "            InlineKeyboardButton(\"Cancel\", callback_data = \"4\")\n",
    "        ]\n",
    "    ])\n",
    "    update.message.reply_text(\n",
    "        \"Hello {name}, please choose an option:\".format(name = update.effective_user.first_name),\n",
    "        reply_markup=reply_buttons\n",
    "    )\n",
    "\n",
    "from telegram.ext import PrefixHandler\n",
    "wth_handler = PrefixHandler('!','weather', weather_button)\n",
    "dispatcher.add_handler(wth_handler)"
   ]
  },
  {
   "cell_type": "code",
   "execution_count": 16,
   "metadata": {},
   "outputs": [],
   "source": [
    "def weather_answer(update, context):\n",
    "    # Must call answer!\n",
    "    update.callback_query.answer()\n",
    "    # Remove buttons\n",
    "    update.callback_query.message.edit_reply_markup(\n",
    "        reply_markup = InlineKeyboardMarkup([])\n",
    "    )\n",
    "    print(update.callback_query.data)\n",
    "    print(type(update.callback_query.data))\n",
    "    update.callback_query.message.reply_text(text=update.callback_query.data)\n",
    "\n",
    "from telegram.ext import CallbackQueryHandler\n",
    "dispatcher.add_handler(CallbackQueryHandler(weather_answer))"
   ]
  },
  {
   "cell_type": "code",
   "execution_count": null,
   "metadata": {},
   "outputs": [],
   "source": [
    "from telegram.ext import ConversationHandler, MessageHandler\n",
    "wth_conv_handler = ConversationHandler(\n",
    "    entry_points=[PrevisHandler('!','weather', weather)],\n",
    "    states={\n",
    "        Location : [MessageHandler(Filters=None, callback=)]\n",
    "    },\n",
    "    fallback=[PrevisHandler('!','cancel', cancel)] # how to exit\n",
    ")\n",
    "dispatcher.add_handler(wth_conv_handler)"
   ]
  },
  {
   "cell_type": "code",
   "execution_count": null,
   "metadata": {},
   "outputs": [],
   "source": [
    "#https://www.youtube.com/watch?v=-W25XN3F0IY\n",
    "    \n",
    "def weather(update, context):\n",
    "    context.bot.send_message(\n",
    "        chat_id=update.effective_chat.id, \n",
    "        text=\"Hello {name}.\\n \\\n",
    "            Enter your location.\\n \\\n",
    "            Type !cancel to exit at any time\".format(name = update.effective_user.first_name)\n",
    "    )\n",
    "    return location\n",
    "  \n",
    "def location(update, context):\n",
    "    context.bot.send_message(chat_id=update.effective_chat.id, \n",
    "                             text=\"Enter location: \\n Leave blank to exit.\")\n",
    "    return location\n",
    "    \n",
    "from telegram.ext import CallbackQueryHandler\n",
    "dispatcher.add_handler(CallbackQueryHandler(weather_answer))"
   ]
  },
  {
   "cell_type": "code",
   "execution_count": 17,
   "metadata": {},
   "outputs": [],
   "source": [
    "import random\n",
    "import re #import regex\n",
    "\n",
    "def versus(msg):\n",
    "    \"\"\"\n",
    "    Select random output from a string that is separated by one or more \"vs\".\n",
    "    A unique \"vs\" is identified by tailing and fronting space, tab, new line or return character.\n",
    "    \"\"\"\n",
    "    \n",
    "    print(\"Function: versus\")\n",
    "    print(\"Message: \",msg)\n",
    "    answer_msg = \"\"\n",
    "    #transform msg\n",
    "    if re.search(\"[ \\t\\n\\r]+vs[ \\t\\n\\r]+\", msg):\n",
    "        temp = re.split(\"[ \\t\\n\\r]+vs[ \\t\\n\\r]+\",msg)\n",
    "        print(temp)\n",
    "        answer_msg = random.choice(temp)\n",
    "    return answer_msg\n",
    "        \n",
    "\n",
    "def isAble(msg):\n",
    "    \"\"\"\n",
    "    Answers yes or no to user questions ending with \"ㄱㄴ?\"\n",
    "    \"\"\"\n",
    "    print(\"Function: isAble\")\n",
    "    print(\"Message: \",msg)\n",
    "    answer_msg = \"\"\n",
    "    if re.search(\"^(ㄱㄴ\\?+)$|([ \\t\\n\\r]ㄱㄴ\\?+)$\", msg):\n",
    "        yes_list = [\"ㅇㅇ\", \"ㄱㄴ!\" , \"ㅇㅋ\"]\n",
    "        no_list  = [\"ㄴㄴ\", \"자제점;;\", \"않이\"]\n",
    "        answer_list = random.choice([yes_list, no_list])\n",
    "        answer_msg = random.choice(answer_list)\n",
    "    return answer_msg"
   ]
  },
  {
   "cell_type": "code",
   "execution_count": 18,
   "metadata": {},
   "outputs": [],
   "source": [
    "def msg_fn_group0(update, context):\n",
    "    \"\"\"\n",
    "    Message function group for 'versus' and 'isAble' text functions.\n",
    "    Executes message in the order of 'versus' then 'isAble'.\n",
    "    \"\"\"\n",
    "    user_msg = update.message.text\n",
    "    print(user_msg)\n",
    "    answer_msg_dict = {\"versus\": \"\",\n",
    "                        \"isAble\": \"\"}\n",
    "    answer_msg_dict[\"versus\"] = versus(user_msg)\n",
    "    answer_msg_dict[\"isAble\"] = isAble(answer_msg_dict[\"versus\"]) if answer_msg_dict[\"versus\"] \\\n",
    "                                                                else isAble(user_msg)\n",
    "    print(answer_msg_dict)\n",
    "    order = [\"versus\", \"isAble\"]\n",
    "    \n",
    "    answer_msg = '\\n'.join([answer_msg_dict[x] for x in order if answer_msg_dict[x]])\n",
    "    print(answer_msg)\n",
    "    if answer_msg:\n",
    "        context.bot.send_message(chat_id=update.effective_chat.id, text=answer_msg)\n",
    "\n",
    "# Message handler for versus and isAble functions. \n",
    "# Uses a filter to filter out any commands. (Commands start with a '/' (slash))\n",
    "from telegram.ext import MessageHandler, Filters\n",
    "msg_handler0 = MessageHandler(Filters.text & (~Filters.command), msg_fn_group0)\n",
    "dispatcher.add_handler(msg_handler0, group = 0)"
   ]
  },
  {
   "cell_type": "code",
   "execution_count": 19,
   "metadata": {},
   "outputs": [
    {
     "name": "stderr",
     "output_type": "stream",
     "text": [
      "2021-10-28 21:51:26,011 - apscheduler.scheduler - INFO - Scheduler started\n"
     ]
    },
    {
     "data": {
      "text/plain": [
       "<queue.Queue at 0x2a01e8e5400>"
      ]
     },
     "execution_count": 19,
     "metadata": {},
     "output_type": "execute_result"
    },
    {
     "name": "stdout",
     "output_type": "stream",
     "text": [
      "333\n",
      "<class 'str'>\n",
      "진행상황\n",
      "Function: versus\n",
      "Message:  진행상황\n",
      "Function: isAble\n",
      "Message:  진행상황\n",
      "{'versus': '', 'isAble': ''}\n",
      "\n",
      "버튼에서\n",
      "Function: versus\n",
      "Message:  버튼에서\n",
      "Function: isAble\n",
      "Message:  버튼에서\n",
      "{'versus': '', 'isAble': ''}\n",
      "\n",
      "버튼 누르면 결과읽는것까지 완성함\n",
      "Function: versus\n",
      "Message:  버튼 누르면 결과읽는것까지 완성함\n",
      "Function: isAble\n",
      "Message:  버튼 누르면 결과읽는것까지 완성함\n",
      "{'versus': '', 'isAble': ''}\n",
      "\n",
      "333\n",
      "<class 'str'>\n",
      "버튼 사라지게도 했음\n",
      "Function: versus\n",
      "Message:  버튼 사라지게도 했음\n",
      "Function: isAble\n",
      "Message:  버튼 사라지게도 했음\n",
      "{'versus': '', 'isAble': ''}\n",
      "\n"
     ]
    }
   ],
   "source": [
    "# Run to start the bot\n",
    "updater.start_polling(timeout=3, drop_pending_updates=True)"
   ]
  },
  {
   "cell_type": "code",
   "execution_count": 20,
   "metadata": {},
   "outputs": [
    {
     "name": "stderr",
     "output_type": "stream",
     "text": [
      "2021-10-28 21:56:01,433 - apscheduler.scheduler - INFO - Scheduler has been shut down\n"
     ]
    }
   ],
   "source": [
    "# stop the bot\n",
    "updater.stop()"
   ]
  },
  {
   "cell_type": "code",
   "execution_count": null,
   "metadata": {},
   "outputs": [],
   "source": []
  },
  {
   "cell_type": "code",
   "execution_count": null,
   "metadata": {},
   "outputs": [],
   "source": [
    "re.search(\"^(ㄱㄴ\\?)$|([ \\t\\n\\r]ㄱㄴ\\?)$\", \"ㄱㄴ?\")"
   ]
  }
 ],
 "metadata": {
  "kernelspec": {
   "display_name": "Python 3",
   "language": "python",
   "name": "python3"
  },
  "language_info": {
   "codemirror_mode": {
    "name": "ipython",
    "version": 3
   },
   "file_extension": ".py",
   "mimetype": "text/x-python",
   "name": "python",
   "nbconvert_exporter": "python",
   "pygments_lexer": "ipython3",
   "version": "3.8.5"
  }
 },
 "nbformat": 4,
 "nbformat_minor": 2
}
